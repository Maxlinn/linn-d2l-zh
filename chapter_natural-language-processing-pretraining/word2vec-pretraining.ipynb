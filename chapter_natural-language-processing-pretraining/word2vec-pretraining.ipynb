{
 "cells": [
  {
   "cell_type": "markdown",
   "metadata": {
    "origin_pos": 0
   },
   "source": [
    "# 预训练word2vec\n",
    ":label:`sec_word2vec_pretraining`\n",
    "\n",
    "我们继续实现 :numref:`sec_word2vec`中定义的跳元语法模型。然后，我们将在PTB数据集上使用负采样预训练word2vec。首先，让我们通过调用`d2l.load_data_ptb`函数来获得该数据集的数据迭代器和词表，该函数在 :numref:`sec_word2vec_data`中进行了描述。\n"
   ]
  },
  {
   "cell_type": "markdown",
   "metadata": {},
   "source": [
    "> PTB(Penn Tree Bank)数据集介绍：http://www.lysblog.cn:8080/blog/65\n",
    ">\n",
    "> 包含很多文件，但是我们只关心 data 文件夹下面的三个文件：ptb.test.txt、ptb.train.txt、ptb.valid.txt (如下图所示)。\n",
    ">\n",
    "> 这三个文件中的数据已经经过预处理，相邻单词之间用空格隔开，数据集中包括 9998 个不同的单词词汇，加上特殊符号 (稀有词语) 和语句结束标记符 (换行符) 在内，一共是 10000 个词汇。近年来关于语言模型方面的论文大多采用了 Mikolov 提供的这一预处理后的数据版本，由此保证论文之间具有比较性。"
   ]
  },
  {
   "cell_type": "code",
   "execution_count": 66,
   "metadata": {
    "origin_pos": 2,
    "tab": [
     "pytorch"
    ]
   },
   "outputs": [],
   "source": [
    "import math\n",
    "import torch\n",
    "from torch import nn\n",
    "from d2l import torch as d2l"
   ]
  },
  {
   "cell_type": "code",
   "execution_count": 67,
   "metadata": {},
   "outputs": [],
   "source": [
    "# 遇到d2l的bug，要把num_workers返回0\n",
    "# http://zh-v2.d2l.ai/chapter_natural-language-processing-pretraining/word-embedding-dataset.html\n",
    "d2l.get_dataloader_workers = lambda: 0"
   ]
  },
  {
   "cell_type": "code",
   "execution_count": 68,
   "metadata": {
    "origin_pos": 2,
    "tab": [
     "pytorch"
    ]
   },
   "outputs": [],
   "source": [
    "batch_size, max_window_size, num_noise_words = 512, 5, 5\n",
    "data_iter, vocab = d2l.load_data_ptb(batch_size, max_window_size,\n",
    "                                     num_noise_words)\n",
    "# 这个download完毕后不会发消息的，不要看着老是在Downloading"
   ]
  },
  {
   "cell_type": "markdown",
   "metadata": {
    "origin_pos": 3
   },
   "source": [
    "## 跳元模型\n",
    "\n",
    "我们通过嵌入层和批量矩阵乘法实现了跳元模型。首先，让我们回顾一下嵌入层是如何工作的。"
   ]
  },
  {
   "cell_type": "markdown",
   "metadata": {
    "origin_pos": 3
   },
   "source": [
    "### 嵌入层\n",
    "\n",
    "如 :numref:`sec_seq2seq`中所述，嵌入层将词元的索引映射到其特征向量。该层的权重是一个矩阵，其行数等于字典大小（`input_dim`），列数等于每个标记的向量维数（`output_dim`）。在词嵌入模型训练之后，这个权重就是我们所需要的。"
   ]
  },
  {
   "cell_type": "code",
   "execution_count": 69,
   "metadata": {
    "origin_pos": 5,
    "tab": [
     "pytorch"
    ]
   },
   "outputs": [
    {
     "name": "stdout",
     "output_type": "stream",
     "text": [
      "Parameter embedding_weight (torch.Size([20, 4]), dtype=torch.float32)\n"
     ]
    }
   ],
   "source": [
    "# num_beddings表示，embedding_dim是嵌入的维数\n",
    "# Embedding层是一个单层的MLP，本质上是**封装过的**矩阵（和它的梯度），访问矩阵需要用.weight\n",
    "# 没有初始化时，里面的参数是乱的\n",
    "embed = nn.Embedding(num_embeddings=20, embedding_dim=4)\n",
    "print(f'Parameter embedding_weight ({embed.weight.shape}, '\n",
    "      f'dtype={embed.weight.dtype})')"
   ]
  },
  {
   "cell_type": "markdown",
   "metadata": {
    "origin_pos": 6
   },
   "source": [
    "嵌入层的输入是词元（词）的索引。对于任何词元索引$i$，其向量表示可以从嵌入层中的权重矩阵的第$i$行获得。由于向量维度（`output_dim`）被设置为4，因此当小批量词元索引的形状为（2，3）时，嵌入层返回具有形状（2，3，4）的向量。\n"
   ]
  },
  {
   "cell_type": "code",
   "execution_count": 70,
   "metadata": {
    "origin_pos": 7,
    "tab": [
     "pytorch"
    ]
   },
   "outputs": [
    {
     "data": {
      "text/plain": [
       "tensor([[[-1.2000,  0.4314,  1.1021, -0.8156],\n",
       "         [-2.2387, -0.7568,  0.5548,  0.1025],\n",
       "         [-0.8358,  0.6318, -0.5014,  0.0929]],\n",
       "\n",
       "        [[-1.7980,  0.8309, -1.3820,  0.5327],\n",
       "         [ 0.0254, -1.3058,  0.4520, -0.6496],\n",
       "         [ 1.7147, -1.2924,  3.0739,  0.8969]]], grad_fn=<EmbeddingBackward0>)"
      ]
     },
     "execution_count": 70,
     "metadata": {},
     "output_type": "execute_result"
    }
   ],
   "source": [
    "x = torch.tensor([[1, 2, 3], [4, 5, 6]])\n",
    "embed(x)\n",
    "# embed的operator()会elemwise地索引它的embedding\n",
    "# 因此要求传入的矩阵是一个整型的矩阵\n",
    "# 所以最后的维度是[*x.shape, embedding_size]"
   ]
  },
  {
   "cell_type": "markdown",
   "metadata": {
    "origin_pos": 8
   },
   "source": [
    "### 定义前向传播\n",
    "\n",
    "在前向传播中，跳元语法模型的输入包括形状为（批量大小，1）的中心词索引`center`和形状为（批量大小，`max_len`）的上下文与噪声词索引`contexts_and_negatives`，其中`max_len`在 :numref:`subsec_word2vec-minibatch-loading`中定义。这两个变量首先通过嵌入层从词元索引转换成向量，然后它们的批量矩阵相乘（在 :numref:`subsec_batch_dot`中描述）返回形状为（批量大小，1，`max_len`）的输出。输出中的每个元素是中心词向量和上下文或噪声词向量的点积。\n"
   ]
  },
  {
   "cell_type": "markdown",
   "metadata": {},
   "source": [
    "> 注意这里的center是索引，而不是词本身"
   ]
  },
  {
   "cell_type": "markdown",
   "metadata": {},
   "source": [
    "> u.permute(dims) 表示将维度进行调换，生成一个新的Tensor\n",
    "> \n",
    "> 关于矩阵乘法：https://blog.csdn.net/leo_95/article/details/89946318\n",
    "> \n",
    "> - torch.mm(mat1, mat2)是最基础的矩阵乘法(matrix multiplication)，**只能实现两个二维矩阵相乘**\n",
    "> - torch.bmm(mat1, mat2)的b表示batched，只能传入两个三维矩阵并且第一维必须一样，后面两维将会进行矩阵相乘\n",
    "> - torch.matmal()表示张量相乘，定义有些复杂"
   ]
  },
  {
   "cell_type": "code",
   "execution_count": 71,
   "metadata": {
    "origin_pos": 10,
    "tab": [
     "pytorch"
    ]
   },
   "outputs": [],
   "source": [
    "def skip_gram(center, contexts_and_negatives, embed_v, embed_u):\n",
    "    # 这里并没有生成ground_truth\n",
    "    v = embed_v(center) # center.shape = [batch_size, 1], v = [batch_size, 1, embedding_size]\n",
    "    u = embed_u(contexts_and_negatives) # u.shape = [batch_size, max_len, embedding_size]\n",
    "    pred = torch.bmm(v, u.permute(0, 2, 1))# \n",
    "    return pred"
   ]
  },
  {
   "cell_type": "markdown",
   "metadata": {
    "origin_pos": 11
   },
   "source": [
    "让我们为一些样例输入打印此`skip_gram`函数的输出形状。\n"
   ]
  },
  {
   "cell_type": "code",
   "execution_count": 72,
   "metadata": {
    "origin_pos": 13,
    "tab": [
     "pytorch"
    ]
   },
   "outputs": [
    {
     "data": {
      "text/plain": [
       "torch.Size([2, 1, 4])"
      ]
     },
     "execution_count": 72,
     "metadata": {},
     "output_type": "execute_result"
    }
   ],
   "source": [
    "# 只是为了测试形状，没有实际意义\n",
    "# 传入的都是索引，每个元素都是1\n",
    "skip_gram(torch.ones((2, 1), dtype=torch.long),\n",
    "          torch.ones((2, 4), dtype=torch.long), embed, embed).shape"
   ]
  },
  {
   "cell_type": "markdown",
   "metadata": {
    "origin_pos": 14
   },
   "source": [
    "## 训练\n",
    "\n",
    "在训练带负采样的跳元模型之前，我们先定义它的损失函数。\n",
    "\n",
    "### 二元交叉熵损失\n",
    "\n",
    "根据 :numref:`subsec_negative-sampling`中负采样损失函数的定义，我们将使用二元交叉熵损失。\n"
   ]
  },
  {
   "cell_type": "markdown",
   "metadata": {},
   "source": [
    "> - 自定义loss也是继承nn.Module，和自定义网络模块一样\n",
    "> - forward方法就是operator()\n",
    "> - nn.functional是函数，不包含梯度和副作用，有时也写成`import torch.nn.functional as F`\n",
    "> - 默认创建的torch.Tensor（或者torch.ones, zeros是**不带梯度的**），需要指定`requires_grad=True`"
   ]
  },
  {
   "attachments": {
    "image.png": {
     "image/png": "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"
    }
   },
   "cell_type": "markdown",
   "metadata": {},
   "source": [
    "> 关于cross_entropy_loss和sigmoid的区别：https://blog.csdn.net/Just_do_myself/article/details/123393900\n",
    "> <img src="attachment:image.png" alt="image.png">"
   ]
  },
  {
   "cell_type": "markdown",
   "metadata": {},
   "source": [
    "> BCELoss\n",
    "> \n",
    "> BCE指的是Binary Cross Entropy: https://zhuanlan.zhihu.com/p/89391305"
   ]
  },
  {
   "cell_type": "code",
   "execution_count": 73,
   "metadata": {
    "origin_pos": 16,
    "tab": [
     "pytorch"
    ]
   },
   "outputs": [],
   "source": [
    "class SigmoidBCELoss(nn.Module):\n",
    "    # 带掩码的二元交叉熵损失\n",
    "    def __init__(self):\n",
    "        super().__init__()\n",
    "\n",
    "    def forward(self, inputs, target, mask=None):\n",
    "        # with_logits的意思是，传入的inputs可以直接是全连接层输出，而不是归一化的概率，内部会用sigmoid和softmax自己归一化\n",
    "        # sigmoid就是个函数，返回的Tensor是带有SigmoidBackward的\n",
    "        # 等价于nn.functional.binary_cross_entropy(inputs=torch.sigmoid(inputs))\n",
    "        \n",
    "        # 每个pred对应一个\n",
    "        # 按行就是dim=0，按列就是dim=1\n",
    "        # https://pytorch.org/docs/stable/generated/torch.nn.functional.binary_cross_entropy_with_logits.html\n",
    "        # 输出的结果是没有归一化的\n",
    "        out = nn.functional.binary_cross_entropy_with_logits(\n",
    "            inputs, target, weight=mask, reduction=\"none\")\n",
    "        ret = out.mean(dim=1)\n",
    "        return ret\n",
    "\n",
    "loss = SigmoidBCELoss()"
   ]
  },
  {
   "cell_type": "markdown",
   "metadata": {},
   "source": [
    "> 一组数据：\n",
    "> ```python\n",
    "out is tensor([[0.2873, 0.1051, 3.3362, 0.0122],\n",
    "        [1.3873, 2.3051, 0.0000, 0.0000]])\n",
    "ret is tensor([0.9352, 0.9231])\n",
    "> ```\n"
   ]
  },
  {
   "cell_type": "markdown",
   "metadata": {
    "origin_pos": 17
   },
   "source": [
    "回想一下我们在 :numref:`subsec_word2vec-minibatch-loading`中对掩码变量和标签变量的描述。下面计算给定变量的二进制交叉熵损失。\n"
   ]
  },
  {
   "cell_type": "code",
   "execution_count": 74,
   "metadata": {
    "origin_pos": 18,
    "scrolled": true,
    "tab": [
     "pytorch"
    ]
   },
   "outputs": [
    {
     "data": {
      "text/plain": [
       "tensor([0.9352, 1.8462])"
      ]
     },
     "execution_count": 74,
     "metadata": {},
     "output_type": "execute_result"
    }
   ],
   "source": [
    "pred = torch.tensor([[1.1, -2.2, 3.3, -4.4]] * 2) # list的乘法，最后得到[[...], [...]]，表示两组预测结果\n",
    "label = torch.tensor([[1.0, 0.0, 0.0, 0.0], [0.0, 1.0, 0.0, 0.0]]) # 两组真实分布\n",
    "mask = torch.tensor([[1, 1, 1, 1], [1, 1, 0, 0]]) # mask表示组内哪些有效\n",
    "# 相当于除以 mask_1_count / total_count，按mask的比例将loss还原为total_count的分数\n",
    "loss(pred, label, mask) * mask.shape[1] / mask.sum(axis=1)"
   ]
  },
  {
   "cell_type": "markdown",
   "metadata": {
    "origin_pos": 19
   },
   "source": [
    "下面显示了如何使用二元交叉熵损失中的Sigmoid激活函数（以较低效率的方式）计算上述结果。我们可以将这两个输出视为两个规范化的损失，在非掩码预测上进行平均。\n"
   ]
  },
  {
   "cell_type": "code",
   "execution_count": 75,
   "metadata": {
    "origin_pos": 20,
    "tab": [
     "pytorch"
    ]
   },
   "outputs": [
    {
     "name": "stdout",
     "output_type": "stream",
     "text": [
      "0.9352\n",
      "1.8462\n"
     ]
    }
   ],
   "source": [
    "# sigmoid将变量映射到[0, 1]，原始公式是1/(1+math.exp(-x))\n",
    "# 防止概率相乘下溢，取了对数\n",
    "# 由于概率值的对数是负的，取了反\n",
    "def sigmd(x):\n",
    "    return -math.log(1 / (1 + math.exp(-x)))\n",
    "\n",
    "print(f'{(sigmd(1.1) + sigmd(2.2) + sigmd(-3.3) + sigmd(4.4)) / 4:.4f}')\n",
    "print(f'{(sigmd(-1.1) + sigmd(-2.2)) / 2:.4f}')"
   ]
  },
  {
   "cell_type": "markdown",
   "metadata": {
    "origin_pos": 21
   },
   "source": [
    "### 初始化模型参数\n",
    "\n",
    "我们定义了两个嵌入层，将词表中的所有单词分别作为中心词和上下文词使用。字向量维度`embed_size`被设置为100。\n"
   ]
  },
  {
   "cell_type": "code",
   "execution_count": 76,
   "metadata": {
    "origin_pos": 23,
    "tab": [
     "pytorch"
    ]
   },
   "outputs": [],
   "source": [
    "embed_size = 100\n",
    "net = nn.Sequential(nn.Embedding(num_embeddings=len(vocab),\n",
    "                                 embedding_dim=embed_size),\n",
    "                    nn.Embedding(num_embeddings=len(vocab),\n",
    "                                 embedding_dim=embed_size))"
   ]
  },
  {
   "cell_type": "markdown",
   "metadata": {
    "origin_pos": 24
   },
   "source": [
    "### 定义训练阶段代码\n",
    "\n",
    "训练阶段代码实现定义如下。由于填充的存在，损失函数的计算与以前的训练函数略有不同。\n"
   ]
  },
  {
   "cell_type": "code",
   "execution_count": 77,
   "metadata": {
    "origin_pos": 26,
    "tab": [
     "pytorch"
    ]
   },
   "outputs": [],
   "source": [
    "def train(net, data_iter, lr, num_epochs, device=d2l.try_gpu()):\n",
    "    def init_weights(m):\n",
    "        if type(m) == nn.Embedding:\n",
    "            nn.init.xavier_uniform_(m.weight) # 使用xavier_uniform来原地初始化embedding.weight\n",
    "    net.apply(init_weights)\n",
    "    net = net.to(device)\n",
    "    optimizer = torch.optim.Adam(net.parameters(), lr=lr)\n",
    "    animator = d2l.Animator(xlabel='epoch', ylabel='loss',\n",
    "                            xlim=[1, num_epochs])\n",
    "    # 规范化的损失之和，规范化的损失数\n",
    "    metric = d2l.Accumulator(2)\n",
    "    for epoch in range(num_epochs):\n",
    "        timer, num_batches = d2l.Timer(), len(data_iter)\n",
    "        for i, batch in enumerate(data_iter):\n",
    "            optimizer.zero_grad()\n",
    "            center, context_negative, mask, label = [\n",
    "                data.to(device) for data in batch]\n",
    "\n",
    "            pred = skip_gram(center, context_negative, net[0], net[1])\n",
    "            l = (loss(pred.reshape(label.shape).float(), label.float(), mask)\n",
    "                     / mask.sum(axis=1) * mask.shape[1])\n",
    "            l.sum().backward()\n",
    "            optimizer.step()\n",
    "            metric.add(l.sum(), l.numel())\n",
    "            if (i + 1) % (num_batches // 5) == 0 or i == num_batches - 1:\n",
    "                animator.add(epoch + (i + 1) / num_batches,\n",
    "                             (metric[0] / metric[1],))\n",
    "    print(f'loss {metric[0] / metric[1]:.3f}, '\n",
    "          f'{metric[1] / timer.stop():.1f} tokens/sec on {str(device)}')"
   ]
  },
  {
   "cell_type": "markdown",
   "metadata": {
    "origin_pos": 27
   },
   "source": [
    "现在，我们可以使用负采样来训练跳元模型。\n"
   ]
  },
  {
   "cell_type": "code",
   "execution_count": 80,
   "metadata": {
    "origin_pos": 28,
    "tab": [
     "pytorch"
    ]
   },
   "outputs": [
    {
     "name": "stdout",
     "output_type": "stream",
     "text": [
      "loss 0.410, 170086.4 tokens/sec on cuda:0\n"
     ]
    },
    {
     "data": {
      "image/svg+xml": [
       "<?xml version=\"1.0\" encoding=\"utf-8\" standalone=\"no\"?>\r\n",
       "<!DOCTYPE svg PUBLIC \"-//W3C//DTD SVG 1.1//EN\"\r\n",
       "  \"http://www.w3.org/Graphics/SVG/1.1/DTD/svg11.dtd\">\r\n",
       "<!-- Created with matplotlib (https://matplotlib.org/) -->\r\n",
       "<svg height=\"180.65625pt\" version=\"1.1\" viewBox=\"0 0 255.825 180.65625\" width=\"255.825pt\" xmlns=\"http://www.w3.org/2000/svg\" xmlns:xlink=\"http://www.w3.org/1999/xlink\">\r\n",
       " <metadata>\r\n",
       "  <rdf:RDF xmlns:cc=\"http://creativecommons.org/ns#\" xmlns:dc=\"http://purl.org/dc/elements/1.1/\" xmlns:rdf=\"http://www.w3.org/1999/02/22-rdf-syntax-ns#\">\r\n",
       "   <cc:Work>\r\n",
       "    <dc:type rdf:resource=\"http://purl.org/dc/dcmitype/StillImage\"/>\r\n",
       "    <dc:date>2022-04-11T23:06:29.794772</dc:date>\r\n",
       "    <dc:format>image/svg+xml</dc:format>\r\n",
       "    <dc:creator>\r\n",
       "     <cc:Agent>\r\n",
       "      <dc:title>Matplotlib v3.3.3, https://matplotlib.org/</dc:title>\r\n",
       "     </cc:Agent>\r\n",
       "    </dc:creator>\r\n",
       "   </cc:Work>\r\n",
       "  </rdf:RDF>\r\n",
       " </metadata>\r\n",
       " <defs>\r\n",
       "  <style type=\"text/css\">*{stroke-linecap:butt;stroke-linejoin:round;}</style>\r\n",
       " </defs>\r\n",
       " <g id=\"figure_1\">\r\n",
       "  <g id=\"patch_1\">\r\n",
       "   <path d=\"M 0 180.65625 \r\n",
       "L 255.825 180.65625 \r\n",
       "L 255.825 0 \r\n",
       "L 0 0 \r\n",
       "z\r\n",
       "\" style=\"fill:none;\"/>\r\n",
       "  </g>\r\n",
       "  <g id=\"axes_1\">\r\n",
       "   <g id=\"patch_2\">\r\n",
       "    <path d=\"M 50.14375 143.1 \r\n",
       "L 245.44375 143.1 \r\n",
       "L 245.44375 7.2 \r\n",
       "L 50.14375 7.2 \r\n",
       "z\r\n",
       "\" style=\"fill:#ffffff;\"/>\r\n",
       "   </g>\r\n",
       "   <g id=\"matplotlib.axis_1\">\r\n",
       "    <g id=\"xtick_1\">\r\n",
       "     <g id=\"line2d_1\">\r\n",
       "      <path clip-path=\"url(#pd753800414)\" d=\"M 50.14375 143.1 \r\n",
       "L 50.14375 7.2 \r\n",
       "\" style=\"fill:none;stroke:#b0b0b0;stroke-linecap:square;stroke-width:0.8;\"/>\r\n",
       "     </g>\r\n",
       "     <g id=\"line2d_2\">\r\n",
       "      <defs>\r\n",
       "       <path d=\"M 0 0 \r\n",
       "L 0 3.5 \r\n",
       "\" id=\"m4347a46455\" style=\"stroke:#000000;stroke-width:0.8;\"/>\r\n",
       "      </defs>\r\n",
       "      <g>\r\n",
       "       <use style=\"stroke:#000000;stroke-width:0.8;\" x=\"50.14375\" xlink:href=\"#m4347a46455\" y=\"143.1\"/>\r\n",
       "      </g>\r\n",
       "     </g>\r\n",
       "     <g id=\"text_1\">\r\n",
       "      <!-- 1 -->\r\n",
       "      <g transform=\"translate(46.9625 157.698438)scale(0.1 -0.1)\">\r\n",
       "       <defs>\r\n",
       "        <path d=\"M 12.40625 8.296875 \r\n",
       "L 28.515625 8.296875 \r\n",
       "L 28.515625 63.921875 \r\n",
       "L 10.984375 60.40625 \r\n",
       "L 10.984375 69.390625 \r\n",
       "L 28.421875 72.90625 \r\n",
       "L 38.28125 72.90625 \r\n",
       "L 38.28125 8.296875 \r\n",
       "L 54.390625 8.296875 \r\n",
       "L 54.390625 0 \r\n",
       "L 12.40625 0 \r\n",
       "z\r\n",
       "\" id=\"DejaVuSans-49\"/>\r\n",
       "       </defs>\r\n",
       "       <use xlink:href=\"#DejaVuSans-49\"/>\r\n",
       "      </g>\r\n",
       "     </g>\r\n",
       "    </g>\r\n",
       "    <g id=\"xtick_2\">\r\n",
       "     <g id=\"line2d_3\">\r\n",
       "      <path clip-path=\"url(#pd753800414)\" d=\"M 98.96875 143.1 \r\n",
       "L 98.96875 7.2 \r\n",
       "\" style=\"fill:none;stroke:#b0b0b0;stroke-linecap:square;stroke-width:0.8;\"/>\r\n",
       "     </g>\r\n",
       "     <g id=\"line2d_4\">\r\n",
       "      <g>\r\n",
       "       <use style=\"stroke:#000000;stroke-width:0.8;\" x=\"98.96875\" xlink:href=\"#m4347a46455\" y=\"143.1\"/>\r\n",
       "      </g>\r\n",
       "     </g>\r\n",
       "     <g id=\"text_2\">\r\n",
       "      <!-- 2 -->\r\n",
       "      <g transform=\"translate(95.7875 157.698438)scale(0.1 -0.1)\">\r\n",
       "       <defs>\r\n",
       "        <path d=\"M 19.1875 8.296875 \r\n",
       "L 53.609375 8.296875 \r\n",
       "L 53.609375 0 \r\n",
       "L 7.328125 0 \r\n",
       "L 7.328125 8.296875 \r\n",
       "Q 12.9375 14.109375 22.625 23.890625 \r\n",
       "Q 32.328125 33.6875 34.8125 36.53125 \r\n",
       "Q 39.546875 41.84375 41.421875 45.53125 \r\n",
       "Q 43.3125 49.21875 43.3125 52.78125 \r\n",
       "Q 43.3125 58.59375 39.234375 62.25 \r\n",
       "Q 35.15625 65.921875 28.609375 65.921875 \r\n",
       "Q 23.96875 65.921875 18.8125 64.3125 \r\n",
       "Q 13.671875 62.703125 7.8125 59.421875 \r\n",
       "L 7.8125 69.390625 \r\n",
       "Q 13.765625 71.78125 18.9375 73 \r\n",
       "Q 24.125 74.21875 28.421875 74.21875 \r\n",
       "Q 39.75 74.21875 46.484375 68.546875 \r\n",
       "Q 53.21875 62.890625 53.21875 53.421875 \r\n",
       "Q 53.21875 48.921875 51.53125 44.890625 \r\n",
       "Q 49.859375 40.875 45.40625 35.40625 \r\n",
       "Q 44.1875 33.984375 37.640625 27.21875 \r\n",
       "Q 31.109375 20.453125 19.1875 8.296875 \r\n",
       "z\r\n",
       "\" id=\"DejaVuSans-50\"/>\r\n",
       "       </defs>\r\n",
       "       <use xlink:href=\"#DejaVuSans-50\"/>\r\n",
       "      </g>\r\n",
       "     </g>\r\n",
       "    </g>\r\n",
       "    <g id=\"xtick_3\">\r\n",
       "     <g id=\"line2d_5\">\r\n",
       "      <path clip-path=\"url(#pd753800414)\" d=\"M 147.79375 143.1 \r\n",
       "L 147.79375 7.2 \r\n",
       "\" style=\"fill:none;stroke:#b0b0b0;stroke-linecap:square;stroke-width:0.8;\"/>\r\n",
       "     </g>\r\n",
       "     <g id=\"line2d_6\">\r\n",
       "      <g>\r\n",
       "       <use style=\"stroke:#000000;stroke-width:0.8;\" x=\"147.79375\" xlink:href=\"#m4347a46455\" y=\"143.1\"/>\r\n",
       "      </g>\r\n",
       "     </g>\r\n",
       "     <g id=\"text_3\">\r\n",
       "      <!-- 3 -->\r\n",
       "      <g transform=\"translate(144.6125 157.698438)scale(0.1 -0.1)\">\r\n",
       "       <defs>\r\n",
       "        <path d=\"M 40.578125 39.3125 \r\n",
       "Q 47.65625 37.796875 51.625 33 \r\n",
       "Q 55.609375 28.21875 55.609375 21.1875 \r\n",
       "Q 55.609375 10.40625 48.1875 4.484375 \r\n",
       "Q 40.765625 -1.421875 27.09375 -1.421875 \r\n",
       "Q 22.515625 -1.421875 17.65625 -0.515625 \r\n",
       "Q 12.796875 0.390625 7.625 2.203125 \r\n",
       "L 7.625 11.71875 \r\n",
       "Q 11.71875 9.328125 16.59375 8.109375 \r\n",
       "Q 21.484375 6.890625 26.8125 6.890625 \r\n",
       "Q 36.078125 6.890625 40.9375 10.546875 \r\n",
       "Q 45.796875 14.203125 45.796875 21.1875 \r\n",
       "Q 45.796875 27.640625 41.28125 31.265625 \r\n",
       "Q 36.765625 34.90625 28.71875 34.90625 \r\n",
       "L 20.21875 34.90625 \r\n",
       "L 20.21875 43.015625 \r\n",
       "L 29.109375 43.015625 \r\n",
       "Q 36.375 43.015625 40.234375 45.921875 \r\n",
       "Q 44.09375 48.828125 44.09375 54.296875 \r\n",
       "Q 44.09375 59.90625 40.109375 62.90625 \r\n",
       "Q 36.140625 65.921875 28.71875 65.921875 \r\n",
       "Q 24.65625 65.921875 20.015625 65.03125 \r\n",
       "Q 15.375 64.15625 9.8125 62.3125 \r\n",
       "L 9.8125 71.09375 \r\n",
       "Q 15.4375 72.65625 20.34375 73.4375 \r\n",
       "Q 25.25 74.21875 29.59375 74.21875 \r\n",
       "Q 40.828125 74.21875 47.359375 69.109375 \r\n",
       "Q 53.90625 64.015625 53.90625 55.328125 \r\n",
       "Q 53.90625 49.265625 50.4375 45.09375 \r\n",
       "Q 46.96875 40.921875 40.578125 39.3125 \r\n",
       "z\r\n",
       "\" id=\"DejaVuSans-51\"/>\r\n",
       "       </defs>\r\n",
       "       <use xlink:href=\"#DejaVuSans-51\"/>\r\n",
       "      </g>\r\n",
       "     </g>\r\n",
       "    </g>\r\n",
       "    <g id=\"xtick_4\">\r\n",
       "     <g id=\"line2d_7\">\r\n",
       "      <path clip-path=\"url(#pd753800414)\" d=\"M 196.61875 143.1 \r\n",
       "L 196.61875 7.2 \r\n",
       "\" style=\"fill:none;stroke:#b0b0b0;stroke-linecap:square;stroke-width:0.8;\"/>\r\n",
       "     </g>\r\n",
       "     <g id=\"line2d_8\">\r\n",
       "      <g>\r\n",
       "       <use style=\"stroke:#000000;stroke-width:0.8;\" x=\"196.61875\" xlink:href=\"#m4347a46455\" y=\"143.1\"/>\r\n",
       "      </g>\r\n",
       "     </g>\r\n",
       "     <g id=\"text_4\">\r\n",
       "      <!-- 4 -->\r\n",
       "      <g transform=\"translate(193.4375 157.698438)scale(0.1 -0.1)\">\r\n",
       "       <defs>\r\n",
       "        <path d=\"M 37.796875 64.3125 \r\n",
       "L 12.890625 25.390625 \r\n",
       "L 37.796875 25.390625 \r\n",
       "z\r\n",
       "M 35.203125 72.90625 \r\n",
       "L 47.609375 72.90625 \r\n",
       "L 47.609375 25.390625 \r\n",
       "L 58.015625 25.390625 \r\n",
       "L 58.015625 17.1875 \r\n",
       "L 47.609375 17.1875 \r\n",
       "L 47.609375 0 \r\n",
       "L 37.796875 0 \r\n",
       "L 37.796875 17.1875 \r\n",
       "L 4.890625 17.1875 \r\n",
       "L 4.890625 26.703125 \r\n",
       "z\r\n",
       "\" id=\"DejaVuSans-52\"/>\r\n",
       "       </defs>\r\n",
       "       <use xlink:href=\"#DejaVuSans-52\"/>\r\n",
       "      </g>\r\n",
       "     </g>\r\n",
       "    </g>\r\n",
       "    <g id=\"xtick_5\">\r\n",
       "     <g id=\"line2d_9\">\r\n",
       "      <path clip-path=\"url(#pd753800414)\" d=\"M 245.44375 143.1 \r\n",
       "L 245.44375 7.2 \r\n",
       "\" style=\"fill:none;stroke:#b0b0b0;stroke-linecap:square;stroke-width:0.8;\"/>\r\n",
       "     </g>\r\n",
       "     <g id=\"line2d_10\">\r\n",
       "      <g>\r\n",
       "       <use style=\"stroke:#000000;stroke-width:0.8;\" x=\"245.44375\" xlink:href=\"#m4347a46455\" y=\"143.1\"/>\r\n",
       "      </g>\r\n",
       "     </g>\r\n",
       "     <g id=\"text_5\">\r\n",
       "      <!-- 5 -->\r\n",
       "      <g transform=\"translate(242.2625 157.698438)scale(0.1 -0.1)\">\r\n",
       "       <defs>\r\n",
       "        <path d=\"M 10.796875 72.90625 \r\n",
       "L 49.515625 72.90625 \r\n",
       "L 49.515625 64.59375 \r\n",
       "L 19.828125 64.59375 \r\n",
       "L 19.828125 46.734375 \r\n",
       "Q 21.96875 47.46875 24.109375 47.828125 \r\n",
       "Q 26.265625 48.1875 28.421875 48.1875 \r\n",
       "Q 40.625 48.1875 47.75 41.5 \r\n",
       "Q 54.890625 34.8125 54.890625 23.390625 \r\n",
       "Q 54.890625 11.625 47.5625 5.09375 \r\n",
       "Q 40.234375 -1.421875 26.90625 -1.421875 \r\n",
       "Q 22.3125 -1.421875 17.546875 -0.640625 \r\n",
       "Q 12.796875 0.140625 7.71875 1.703125 \r\n",
       "L 7.71875 11.625 \r\n",
       "Q 12.109375 9.234375 16.796875 8.0625 \r\n",
       "Q 21.484375 6.890625 26.703125 6.890625 \r\n",
       "Q 35.15625 6.890625 40.078125 11.328125 \r\n",
       "Q 45.015625 15.765625 45.015625 23.390625 \r\n",
       "Q 45.015625 31 40.078125 35.4375 \r\n",
       "Q 35.15625 39.890625 26.703125 39.890625 \r\n",
       "Q 22.75 39.890625 18.8125 39.015625 \r\n",
       "Q 14.890625 38.140625 10.796875 36.28125 \r\n",
       "z\r\n",
       "\" id=\"DejaVuSans-53\"/>\r\n",
       "       </defs>\r\n",
       "       <use xlink:href=\"#DejaVuSans-53\"/>\r\n",
       "      </g>\r\n",
       "     </g>\r\n",
       "    </g>\r\n",
       "    <g id=\"text_6\">\r\n",
       "     <!-- epoch -->\r\n",
       "     <g transform=\"translate(132.565625 171.376563)scale(0.1 -0.1)\">\r\n",
       "      <defs>\r\n",
       "       <path d=\"M 56.203125 29.59375 \r\n",
       "L 56.203125 25.203125 \r\n",
       "L 14.890625 25.203125 \r\n",
       "Q 15.484375 15.921875 20.484375 11.0625 \r\n",
       "Q 25.484375 6.203125 34.421875 6.203125 \r\n",
       "Q 39.59375 6.203125 44.453125 7.46875 \r\n",
       "Q 49.3125 8.734375 54.109375 11.28125 \r\n",
       "L 54.109375 2.78125 \r\n",
       "Q 49.265625 0.734375 44.1875 -0.34375 \r\n",
       "Q 39.109375 -1.421875 33.890625 -1.421875 \r\n",
       "Q 20.796875 -1.421875 13.15625 6.1875 \r\n",
       "Q 5.515625 13.8125 5.515625 26.8125 \r\n",
       "Q 5.515625 40.234375 12.765625 48.109375 \r\n",
       "Q 20.015625 56 32.328125 56 \r\n",
       "Q 43.359375 56 49.78125 48.890625 \r\n",
       "Q 56.203125 41.796875 56.203125 29.59375 \r\n",
       "z\r\n",
       "M 47.21875 32.234375 \r\n",
       "Q 47.125 39.59375 43.09375 43.984375 \r\n",
       "Q 39.0625 48.390625 32.421875 48.390625 \r\n",
       "Q 24.90625 48.390625 20.390625 44.140625 \r\n",
       "Q 15.875 39.890625 15.1875 32.171875 \r\n",
       "z\r\n",
       "\" id=\"DejaVuSans-101\"/>\r\n",
       "       <path d=\"M 18.109375 8.203125 \r\n",
       "L 18.109375 -20.796875 \r\n",
       "L 9.078125 -20.796875 \r\n",
       "L 9.078125 54.6875 \r\n",
       "L 18.109375 54.6875 \r\n",
       "L 18.109375 46.390625 \r\n",
       "Q 20.953125 51.265625 25.265625 53.625 \r\n",
       "Q 29.59375 56 35.59375 56 \r\n",
       "Q 45.5625 56 51.78125 48.09375 \r\n",
       "Q 58.015625 40.1875 58.015625 27.296875 \r\n",
       "Q 58.015625 14.40625 51.78125 6.484375 \r\n",
       "Q 45.5625 -1.421875 35.59375 -1.421875 \r\n",
       "Q 29.59375 -1.421875 25.265625 0.953125 \r\n",
       "Q 20.953125 3.328125 18.109375 8.203125 \r\n",
       "z\r\n",
       "M 48.6875 27.296875 \r\n",
       "Q 48.6875 37.203125 44.609375 42.84375 \r\n",
       "Q 40.53125 48.484375 33.40625 48.484375 \r\n",
       "Q 26.265625 48.484375 22.1875 42.84375 \r\n",
       "Q 18.109375 37.203125 18.109375 27.296875 \r\n",
       "Q 18.109375 17.390625 22.1875 11.75 \r\n",
       "Q 26.265625 6.109375 33.40625 6.109375 \r\n",
       "Q 40.53125 6.109375 44.609375 11.75 \r\n",
       "Q 48.6875 17.390625 48.6875 27.296875 \r\n",
       "z\r\n",
       "\" id=\"DejaVuSans-112\"/>\r\n",
       "       <path d=\"M 30.609375 48.390625 \r\n",
       "Q 23.390625 48.390625 19.1875 42.75 \r\n",
       "Q 14.984375 37.109375 14.984375 27.296875 \r\n",
       "Q 14.984375 17.484375 19.15625 11.84375 \r\n",
       "Q 23.34375 6.203125 30.609375 6.203125 \r\n",
       "Q 37.796875 6.203125 41.984375 11.859375 \r\n",
       "Q 46.1875 17.53125 46.1875 27.296875 \r\n",
       "Q 46.1875 37.015625 41.984375 42.703125 \r\n",
       "Q 37.796875 48.390625 30.609375 48.390625 \r\n",
       "z\r\n",
       "M 30.609375 56 \r\n",
       "Q 42.328125 56 49.015625 48.375 \r\n",
       "Q 55.71875 40.765625 55.71875 27.296875 \r\n",
       "Q 55.71875 13.875 49.015625 6.21875 \r\n",
       "Q 42.328125 -1.421875 30.609375 -1.421875 \r\n",
       "Q 18.84375 -1.421875 12.171875 6.21875 \r\n",
       "Q 5.515625 13.875 5.515625 27.296875 \r\n",
       "Q 5.515625 40.765625 12.171875 48.375 \r\n",
       "Q 18.84375 56 30.609375 56 \r\n",
       "z\r\n",
       "\" id=\"DejaVuSans-111\"/>\r\n",
       "       <path d=\"M 48.78125 52.59375 \r\n",
       "L 48.78125 44.1875 \r\n",
       "Q 44.96875 46.296875 41.140625 47.34375 \r\n",
       "Q 37.3125 48.390625 33.40625 48.390625 \r\n",
       "Q 24.65625 48.390625 19.8125 42.84375 \r\n",
       "Q 14.984375 37.3125 14.984375 27.296875 \r\n",
       "Q 14.984375 17.28125 19.8125 11.734375 \r\n",
       "Q 24.65625 6.203125 33.40625 6.203125 \r\n",
       "Q 37.3125 6.203125 41.140625 7.25 \r\n",
       "Q 44.96875 8.296875 48.78125 10.40625 \r\n",
       "L 48.78125 2.09375 \r\n",
       "Q 45.015625 0.34375 40.984375 -0.53125 \r\n",
       "Q 36.96875 -1.421875 32.421875 -1.421875 \r\n",
       "Q 20.0625 -1.421875 12.78125 6.34375 \r\n",
       "Q 5.515625 14.109375 5.515625 27.296875 \r\n",
       "Q 5.515625 40.671875 12.859375 48.328125 \r\n",
       "Q 20.21875 56 33.015625 56 \r\n",
       "Q 37.15625 56 41.109375 55.140625 \r\n",
       "Q 45.0625 54.296875 48.78125 52.59375 \r\n",
       "z\r\n",
       "\" id=\"DejaVuSans-99\"/>\r\n",
       "       <path d=\"M 54.890625 33.015625 \r\n",
       "L 54.890625 0 \r\n",
       "L 45.90625 0 \r\n",
       "L 45.90625 32.71875 \r\n",
       "Q 45.90625 40.484375 42.875 44.328125 \r\n",
       "Q 39.84375 48.1875 33.796875 48.1875 \r\n",
       "Q 26.515625 48.1875 22.3125 43.546875 \r\n",
       "Q 18.109375 38.921875 18.109375 30.90625 \r\n",
       "L 18.109375 0 \r\n",
       "L 9.078125 0 \r\n",
       "L 9.078125 75.984375 \r\n",
       "L 18.109375 75.984375 \r\n",
       "L 18.109375 46.1875 \r\n",
       "Q 21.34375 51.125 25.703125 53.5625 \r\n",
       "Q 30.078125 56 35.796875 56 \r\n",
       "Q 45.21875 56 50.046875 50.171875 \r\n",
       "Q 54.890625 44.34375 54.890625 33.015625 \r\n",
       "z\r\n",
       "\" id=\"DejaVuSans-104\"/>\r\n",
       "      </defs>\r\n",
       "      <use xlink:href=\"#DejaVuSans-101\"/>\r\n",
       "      <use x=\"61.523438\" xlink:href=\"#DejaVuSans-112\"/>\r\n",
       "      <use x=\"125\" xlink:href=\"#DejaVuSans-111\"/>\r\n",
       "      <use x=\"186.181641\" xlink:href=\"#DejaVuSans-99\"/>\r\n",
       "      <use x=\"241.162109\" xlink:href=\"#DejaVuSans-104\"/>\r\n",
       "     </g>\r\n",
       "    </g>\r\n",
       "   </g>\r\n",
       "   <g id=\"matplotlib.axis_2\">\r\n",
       "    <g id=\"ytick_1\">\r\n",
       "     <g id=\"line2d_11\">\r\n",
       "      <path clip-path=\"url(#pd753800414)\" d=\"M 50.14375 142.925181 \r\n",
       "L 245.44375 142.925181 \r\n",
       "\" style=\"fill:none;stroke:#b0b0b0;stroke-linecap:square;stroke-width:0.8;\"/>\r\n",
       "     </g>\r\n",
       "     <g id=\"line2d_12\">\r\n",
       "      <defs>\r\n",
       "       <path d=\"M 0 0 \r\n",
       "L -3.5 0 \r\n",
       "\" id=\"m4af7e9a08e\" style=\"stroke:#000000;stroke-width:0.8;\"/>\r\n",
       "      </defs>\r\n",
       "      <g>\r\n",
       "       <use style=\"stroke:#000000;stroke-width:0.8;\" x=\"50.14375\" xlink:href=\"#m4af7e9a08e\" y=\"142.925181\"/>\r\n",
       "      </g>\r\n",
       "     </g>\r\n",
       "     <g id=\"text_7\">\r\n",
       "      <!-- 0.40 -->\r\n",
       "      <g transform=\"translate(20.878125 146.724399)scale(0.1 -0.1)\">\r\n",
       "       <defs>\r\n",
       "        <path d=\"M 31.78125 66.40625 \r\n",
       "Q 24.171875 66.40625 20.328125 58.90625 \r\n",
       "Q 16.5 51.421875 16.5 36.375 \r\n",
       "Q 16.5 21.390625 20.328125 13.890625 \r\n",
       "Q 24.171875 6.390625 31.78125 6.390625 \r\n",
       "Q 39.453125 6.390625 43.28125 13.890625 \r\n",
       "Q 47.125 21.390625 47.125 36.375 \r\n",
       "Q 47.125 51.421875 43.28125 58.90625 \r\n",
       "Q 39.453125 66.40625 31.78125 66.40625 \r\n",
       "z\r\n",
       "M 31.78125 74.21875 \r\n",
       "Q 44.046875 74.21875 50.515625 64.515625 \r\n",
       "Q 56.984375 54.828125 56.984375 36.375 \r\n",
       "Q 56.984375 17.96875 50.515625 8.265625 \r\n",
       "Q 44.046875 -1.421875 31.78125 -1.421875 \r\n",
       "Q 19.53125 -1.421875 13.0625 8.265625 \r\n",
       "Q 6.59375 17.96875 6.59375 36.375 \r\n",
       "Q 6.59375 54.828125 13.0625 64.515625 \r\n",
       "Q 19.53125 74.21875 31.78125 74.21875 \r\n",
       "z\r\n",
       "\" id=\"DejaVuSans-48\"/>\r\n",
       "        <path d=\"M 10.6875 12.40625 \r\n",
       "L 21 12.40625 \r\n",
       "L 21 0 \r\n",
       "L 10.6875 0 \r\n",
       "z\r\n",
       "\" id=\"DejaVuSans-46\"/>\r\n",
       "       </defs>\r\n",
       "       <use xlink:href=\"#DejaVuSans-48\"/>\r\n",
       "       <use x=\"63.623047\" xlink:href=\"#DejaVuSans-46\"/>\r\n",
       "       <use x=\"95.410156\" xlink:href=\"#DejaVuSans-52\"/>\r\n",
       "       <use x=\"159.033203\" xlink:href=\"#DejaVuSans-48\"/>\r\n",
       "      </g>\r\n",
       "     </g>\r\n",
       "    </g>\r\n",
       "    <g id=\"ytick_2\">\r\n",
       "     <g id=\"line2d_13\">\r\n",
       "      <path clip-path=\"url(#pd753800414)\" d=\"M 50.14375 113.001144 \r\n",
       "L 245.44375 113.001144 \r\n",
       "\" style=\"fill:none;stroke:#b0b0b0;stroke-linecap:square;stroke-width:0.8;\"/>\r\n",
       "     </g>\r\n",
       "     <g id=\"line2d_14\">\r\n",
       "      <g>\r\n",
       "       <use style=\"stroke:#000000;stroke-width:0.8;\" x=\"50.14375\" xlink:href=\"#m4af7e9a08e\" y=\"113.001144\"/>\r\n",
       "      </g>\r\n",
       "     </g>\r\n",
       "     <g id=\"text_8\">\r\n",
       "      <!-- 0.45 -->\r\n",
       "      <g transform=\"translate(20.878125 116.800363)scale(0.1 -0.1)\">\r\n",
       "       <use xlink:href=\"#DejaVuSans-48\"/>\r\n",
       "       <use x=\"63.623047\" xlink:href=\"#DejaVuSans-46\"/>\r\n",
       "       <use x=\"95.410156\" xlink:href=\"#DejaVuSans-52\"/>\r\n",
       "       <use x=\"159.033203\" xlink:href=\"#DejaVuSans-53\"/>\r\n",
       "      </g>\r\n",
       "     </g>\r\n",
       "    </g>\r\n",
       "    <g id=\"ytick_3\">\r\n",
       "     <g id=\"line2d_15\">\r\n",
       "      <path clip-path=\"url(#pd753800414)\" d=\"M 50.14375 83.077108 \r\n",
       "L 245.44375 83.077108 \r\n",
       "\" style=\"fill:none;stroke:#b0b0b0;stroke-linecap:square;stroke-width:0.8;\"/>\r\n",
       "     </g>\r\n",
       "     <g id=\"line2d_16\">\r\n",
       "      <g>\r\n",
       "       <use style=\"stroke:#000000;stroke-width:0.8;\" x=\"50.14375\" xlink:href=\"#m4af7e9a08e\" y=\"83.077108\"/>\r\n",
       "      </g>\r\n",
       "     </g>\r\n",
       "     <g id=\"text_9\">\r\n",
       "      <!-- 0.50 -->\r\n",
       "      <g transform=\"translate(20.878125 86.876327)scale(0.1 -0.1)\">\r\n",
       "       <use xlink:href=\"#DejaVuSans-48\"/>\r\n",
       "       <use x=\"63.623047\" xlink:href=\"#DejaVuSans-46\"/>\r\n",
       "       <use x=\"95.410156\" xlink:href=\"#DejaVuSans-53\"/>\r\n",
       "       <use x=\"159.033203\" xlink:href=\"#DejaVuSans-48\"/>\r\n",
       "      </g>\r\n",
       "     </g>\r\n",
       "    </g>\r\n",
       "    <g id=\"ytick_4\">\r\n",
       "     <g id=\"line2d_17\">\r\n",
       "      <path clip-path=\"url(#pd753800414)\" d=\"M 50.14375 53.153072 \r\n",
       "L 245.44375 53.153072 \r\n",
       "\" style=\"fill:none;stroke:#b0b0b0;stroke-linecap:square;stroke-width:0.8;\"/>\r\n",
       "     </g>\r\n",
       "     <g id=\"line2d_18\">\r\n",
       "      <g>\r\n",
       "       <use style=\"stroke:#000000;stroke-width:0.8;\" x=\"50.14375\" xlink:href=\"#m4af7e9a08e\" y=\"53.153072\"/>\r\n",
       "      </g>\r\n",
       "     </g>\r\n",
       "     <g id=\"text_10\">\r\n",
       "      <!-- 0.55 -->\r\n",
       "      <g transform=\"translate(20.878125 56.952291)scale(0.1 -0.1)\">\r\n",
       "       <use xlink:href=\"#DejaVuSans-48\"/>\r\n",
       "       <use x=\"63.623047\" xlink:href=\"#DejaVuSans-46\"/>\r\n",
       "       <use x=\"95.410156\" xlink:href=\"#DejaVuSans-53\"/>\r\n",
       "       <use x=\"159.033203\" xlink:href=\"#DejaVuSans-53\"/>\r\n",
       "      </g>\r\n",
       "     </g>\r\n",
       "    </g>\r\n",
       "    <g id=\"ytick_5\">\r\n",
       "     <g id=\"line2d_19\">\r\n",
       "      <path clip-path=\"url(#pd753800414)\" d=\"M 50.14375 23.229036 \r\n",
       "L 245.44375 23.229036 \r\n",
       "\" style=\"fill:none;stroke:#b0b0b0;stroke-linecap:square;stroke-width:0.8;\"/>\r\n",
       "     </g>\r\n",
       "     <g id=\"line2d_20\">\r\n",
       "      <g>\r\n",
       "       <use style=\"stroke:#000000;stroke-width:0.8;\" x=\"50.14375\" xlink:href=\"#m4af7e9a08e\" y=\"23.229036\"/>\r\n",
       "      </g>\r\n",
       "     </g>\r\n",
       "     <g id=\"text_11\">\r\n",
       "      <!-- 0.60 -->\r\n",
       "      <g transform=\"translate(20.878125 27.028255)scale(0.1 -0.1)\">\r\n",
       "       <defs>\r\n",
       "        <path d=\"M 33.015625 40.375 \r\n",
       "Q 26.375 40.375 22.484375 35.828125 \r\n",
       "Q 18.609375 31.296875 18.609375 23.390625 \r\n",
       "Q 18.609375 15.53125 22.484375 10.953125 \r\n",
       "Q 26.375 6.390625 33.015625 6.390625 \r\n",
       "Q 39.65625 6.390625 43.53125 10.953125 \r\n",
       "Q 47.40625 15.53125 47.40625 23.390625 \r\n",
       "Q 47.40625 31.296875 43.53125 35.828125 \r\n",
       "Q 39.65625 40.375 33.015625 40.375 \r\n",
       "z\r\n",
       "M 52.59375 71.296875 \r\n",
       "L 52.59375 62.3125 \r\n",
       "Q 48.875 64.0625 45.09375 64.984375 \r\n",
       "Q 41.3125 65.921875 37.59375 65.921875 \r\n",
       "Q 27.828125 65.921875 22.671875 59.328125 \r\n",
       "Q 17.53125 52.734375 16.796875 39.40625 \r\n",
       "Q 19.671875 43.65625 24.015625 45.921875 \r\n",
       "Q 28.375 48.1875 33.59375 48.1875 \r\n",
       "Q 44.578125 48.1875 50.953125 41.515625 \r\n",
       "Q 57.328125 34.859375 57.328125 23.390625 \r\n",
       "Q 57.328125 12.15625 50.6875 5.359375 \r\n",
       "Q 44.046875 -1.421875 33.015625 -1.421875 \r\n",
       "Q 20.359375 -1.421875 13.671875 8.265625 \r\n",
       "Q 6.984375 17.96875 6.984375 36.375 \r\n",
       "Q 6.984375 53.65625 15.1875 63.9375 \r\n",
       "Q 23.390625 74.21875 37.203125 74.21875 \r\n",
       "Q 40.921875 74.21875 44.703125 73.484375 \r\n",
       "Q 48.484375 72.75 52.59375 71.296875 \r\n",
       "z\r\n",
       "\" id=\"DejaVuSans-54\"/>\r\n",
       "       </defs>\r\n",
       "       <use xlink:href=\"#DejaVuSans-48\"/>\r\n",
       "       <use x=\"63.623047\" xlink:href=\"#DejaVuSans-46\"/>\r\n",
       "       <use x=\"95.410156\" xlink:href=\"#DejaVuSans-54\"/>\r\n",
       "       <use x=\"159.033203\" xlink:href=\"#DejaVuSans-48\"/>\r\n",
       "      </g>\r\n",
       "     </g>\r\n",
       "    </g>\r\n",
       "    <g id=\"text_12\">\r\n",
       "     <!-- loss -->\r\n",
       "     <g transform=\"translate(14.798437 84.807812)rotate(-90)scale(0.1 -0.1)\">\r\n",
       "      <defs>\r\n",
       "       <path d=\"M 9.421875 75.984375 \r\n",
       "L 18.40625 75.984375 \r\n",
       "L 18.40625 0 \r\n",
       "L 9.421875 0 \r\n",
       "z\r\n",
       "\" id=\"DejaVuSans-108\"/>\r\n",
       "       <path d=\"M 44.28125 53.078125 \r\n",
       "L 44.28125 44.578125 \r\n",
       "Q 40.484375 46.53125 36.375 47.5 \r\n",
       "Q 32.28125 48.484375 27.875 48.484375 \r\n",
       "Q 21.1875 48.484375 17.84375 46.4375 \r\n",
       "Q 14.5 44.390625 14.5 40.28125 \r\n",
       "Q 14.5 37.15625 16.890625 35.375 \r\n",
       "Q 19.28125 33.59375 26.515625 31.984375 \r\n",
       "L 29.59375 31.296875 \r\n",
       "Q 39.15625 29.25 43.1875 25.515625 \r\n",
       "Q 47.21875 21.78125 47.21875 15.09375 \r\n",
       "Q 47.21875 7.46875 41.1875 3.015625 \r\n",
       "Q 35.15625 -1.421875 24.609375 -1.421875 \r\n",
       "Q 20.21875 -1.421875 15.453125 -0.5625 \r\n",
       "Q 10.6875 0.296875 5.421875 2 \r\n",
       "L 5.421875 11.28125 \r\n",
       "Q 10.40625 8.6875 15.234375 7.390625 \r\n",
       "Q 20.0625 6.109375 24.8125 6.109375 \r\n",
       "Q 31.15625 6.109375 34.5625 8.28125 \r\n",
       "Q 37.984375 10.453125 37.984375 14.40625 \r\n",
       "Q 37.984375 18.0625 35.515625 20.015625 \r\n",
       "Q 33.0625 21.96875 24.703125 23.78125 \r\n",
       "L 21.578125 24.515625 \r\n",
       "Q 13.234375 26.265625 9.515625 29.90625 \r\n",
       "Q 5.8125 33.546875 5.8125 39.890625 \r\n",
       "Q 5.8125 47.609375 11.28125 51.796875 \r\n",
       "Q 16.75 56 26.8125 56 \r\n",
       "Q 31.78125 56 36.171875 55.265625 \r\n",
       "Q 40.578125 54.546875 44.28125 53.078125 \r\n",
       "z\r\n",
       "\" id=\"DejaVuSans-115\"/>\r\n",
       "      </defs>\r\n",
       "      <use xlink:href=\"#DejaVuSans-108\"/>\r\n",
       "      <use x=\"27.783203\" xlink:href=\"#DejaVuSans-111\"/>\r\n",
       "      <use x=\"88.964844\" xlink:href=\"#DejaVuSans-115\"/>\r\n",
       "      <use x=\"141.064453\" xlink:href=\"#DejaVuSans-115\"/>\r\n",
       "     </g>\r\n",
       "    </g>\r\n",
       "   </g>\r\n",
       "   <g id=\"line2d_21\">\r\n",
       "    <path clip-path=\"url(#pd753800414)\" d=\"M 11.069197 13.377273 \r\n",
       "L 20.819644 59.591213 \r\n",
       "L 30.570091 78.100094 \r\n",
       "L 40.320538 88.026451 \r\n",
       "L 50.070985 94.342541 \r\n",
       "L 50.14375 94.347021 \r\n",
       "L 59.894197 99.079827 \r\n",
       "L 69.644644 102.740704 \r\n",
       "L 79.395091 105.764356 \r\n",
       "L 89.145538 108.360749 \r\n",
       "L 98.895985 110.658025 \r\n",
       "L 98.96875 110.660438 \r\n",
       "L 108.719197 113.090717 \r\n",
       "L 118.469644 115.269532 \r\n",
       "L 128.220091 117.26104 \r\n",
       "L 137.970538 119.068875 \r\n",
       "L 147.720985 120.735532 \r\n",
       "L 147.79375 120.737315 \r\n",
       "L 157.544197 122.795978 \r\n",
       "L 167.294644 124.661602 \r\n",
       "L 177.045091 126.365029 \r\n",
       "L 186.795538 127.898633 \r\n",
       "L 196.545985 129.327532 \r\n",
       "L 196.61875 129.328559 \r\n",
       "L 206.369197 131.177644 \r\n",
       "L 216.119644 132.837007 \r\n",
       "L 225.870091 134.327291 \r\n",
       "L 235.620538 135.680982 \r\n",
       "L 245.370985 136.920657 \r\n",
       "L 245.44375 136.922727 \r\n",
       "\" style=\"fill:none;stroke:#1f77b4;stroke-linecap:square;stroke-width:1.5;\"/>\r\n",
       "   </g>\r\n",
       "   <g id=\"patch_3\">\r\n",
       "    <path d=\"M 50.14375 143.1 \r\n",
       "L 50.14375 7.2 \r\n",
       "\" style=\"fill:none;stroke:#000000;stroke-linecap:square;stroke-linejoin:miter;stroke-width:0.8;\"/>\r\n",
       "   </g>\r\n",
       "   <g id=\"patch_4\">\r\n",
       "    <path d=\"M 245.44375 143.1 \r\n",
       "L 245.44375 7.2 \r\n",
       "\" style=\"fill:none;stroke:#000000;stroke-linecap:square;stroke-linejoin:miter;stroke-width:0.8;\"/>\r\n",
       "   </g>\r\n",
       "   <g id=\"patch_5\">\r\n",
       "    <path d=\"M 50.14375 143.1 \r\n",
       "L 245.44375 143.1 \r\n",
       "\" style=\"fill:none;stroke:#000000;stroke-linecap:square;stroke-linejoin:miter;stroke-width:0.8;\"/>\r\n",
       "   </g>\r\n",
       "   <g id=\"patch_6\">\r\n",
       "    <path d=\"M 50.14375 7.2 \r\n",
       "L 245.44375 7.2 \r\n",
       "\" style=\"fill:none;stroke:#000000;stroke-linecap:square;stroke-linejoin:miter;stroke-width:0.8;\"/>\r\n",
       "   </g>\r\n",
       "  </g>\r\n",
       " </g>\r\n",
       " <defs>\r\n",
       "  <clipPath id=\"pd753800414\">\r\n",
       "   <rect height=\"135.9\" width=\"195.3\" x=\"50.14375\" y=\"7.2\"/>\r\n",
       "  </clipPath>\r\n",
       " </defs>\r\n",
       "</svg>\r\n"
      ],
      "text/plain": [
       "<Figure size 252x180 with 1 Axes>"
      ]
     },
     "metadata": {
      "needs_background": "light"
     },
     "output_type": "display_data"
    }
   ],
   "source": [
    "# d2l可以根据epoch绘制loss的图形\n",
    "lr, num_epochs = 0.002, 5\n",
    "train(net, data_iter, lr, num_epochs)"
   ]
  },
  {
   "cell_type": "markdown",
   "metadata": {
    "origin_pos": 29
   },
   "source": [
    "## 应用词嵌入\n",
    ":label:`subsec_apply-word-embed`\n",
    "\n",
    "在训练word2vec模型之后，我们可以使用训练好模型中词向量的余弦相似度来从词表中找到与输入单词语义最相似的单词。\n"
   ]
  },
  {
   "cell_type": "code",
   "execution_count": 79,
   "metadata": {
    "origin_pos": 31,
    "tab": [
     "pytorch"
    ]
   },
   "outputs": [
    {
     "name": "stdout",
     "output_type": "stream",
     "text": [
      "cosine sim=0.727: intel\n",
      "cosine sim=0.691: microprocessor\n",
      "cosine sim=0.674: motorola\n"
     ]
    }
   ],
   "source": [
    "def get_similar_tokens(query_token, k, embed):\n",
    "    W = embed.weight.data\n",
    "    x = W[vocab[query_token]]\n",
    "    # 计算余弦相似性。增加1e-9以获得数值稳定性\n",
    "    cos = torch.mv(W, x) / torch.sqrt(torch.sum(W * W, dim=1) *\n",
    "                                      torch.sum(x * x) + 1e-9)\n",
    "    topk = torch.topk(cos, k=k+1)[1].cpu().numpy().astype('int32')\n",
    "    for i in topk[1:]:  # 删除输入词，概率最高的肯定是自己\n",
    "        print(f'cosine sim={float(cos[i]):.3f}: {vocab.to_tokens(i)}')\n",
    "\n",
    "get_similar_tokens('chip', 3, net[0])"
   ]
  },
  {
   "cell_type": "markdown",
   "metadata": {
    "origin_pos": 32
   },
   "source": [
    "## 小结\n",
    "\n",
    "* 我们可以使用嵌入层和二元交叉熵损失来训练带负采样的跳元模型。\n",
    "* 词嵌入的应用包括基于词向量的余弦相似度为给定词找到语义相似的词。\n",
    "\n",
    "## 练习\n",
    "\n",
    "1. 使用训练好的模型，找出其他输入词在语义上相似的词。您能通过调优超参数来改进结果吗？\n",
    "1. 当训练语料库很大时，在更新模型参数时，我们经常对当前小批量的*中心词*进行上下文词和噪声词的采样。换言之，同一中心词在不同的训练迭代轮数可以有不同的上下文词或噪声词。这种方法的好处是什么？尝试实现这种训练方法。\n"
   ]
  },
  {
   "cell_type": "markdown",
   "metadata": {
    "origin_pos": 34,
    "tab": [
     "pytorch"
    ]
   },
   "source": [
    "[Discussions](https://discuss.d2l.ai/t/5740)\n"
   ]
  }
 ],
 "metadata": {
  "kernelspec": {
   "display_name": "Python 3 (ipykernel)",
   "language": "python",
   "name": "python3"
  },
  "language_info": {
   "codemirror_mode": {
    "name": "ipython",
    "version": 3
   },
   "file_extension": ".py",
   "mimetype": "text/x-python",
   "name": "python",
   "nbconvert_exporter": "python",
   "pygments_lexer": "ipython3",
   "version": "3.8.12"
  }
 },
 "nbformat": 4,
 "nbformat_minor": 4
}
