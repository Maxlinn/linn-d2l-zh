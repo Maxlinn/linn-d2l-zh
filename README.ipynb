{
 "cells": [
  {
   "cell_type": "markdown",
   "metadata": {
    "origin_pos": 0
   },
   "source": [
    "# 林知来动手学深度学习\n",
    "\n",
    "林知的学习笔记，教材是《动手学深度学习》，链接是"
   ]
  },
  {
   "cell_type": "markdown",
   "metadata": {},
   "source": [
    "[linn-d2l-zh](https://maxlinn.github.io/linn-d2l-zh)"
   ]
  },
  {
   "cell_type": "markdown",
   "metadata": {},
   "source": [
    "## 引言\n",
    "\n",
    "- [chapter_preface/index](chapter_preface/index)\n",
    "- [chapter_installation/index](chapter_installation/index)\n",
    "- [chapter_notation/index](chapter_notation/index)"
   ]
  },
  {
   "cell_type": "markdown",
   "metadata": {},
   "source": [
    "## 内容\n",
    "\n",
    "- [chapter_introduction/index](chapter_introduction/index)\n",
    "- [chapter_preliminaries/index](chapter_preliminaries/index)\n",
    "- [chapter_linear-networks/index](chapter_linear-networks/index)\n",
    "- [chapter_multilayer-perceptrons/index](chapter_multilayer-perceptrons/index)\n",
    "- [chapter_deep-learning-computation/index](chapter_deep-learning-computation/index)\n",
    "- [chapter_convolutional-neural-networks/index](chapter_convolutional-neural-networks/index)\n",
    "- [chapter_convolutional-modern/index](chapter_convolutional-modern/index)\n",
    "- [chapter_recurrent-neural-networks/index](chapter_recurrent-neural-networks/index)\n",
    "- [chapter_recurrent-modern/index](chapter_recurrent-modern/index)\n",
    "- [chapter_attention-mechanisms/index](chapter_attention-mechanisms/index)\n",
    "- [chapter_optimization/index](chapter_optimization/index)\n",
    "- [chapter_computational-performance/index](chapter_computational-performance/index)\n",
    "- [chapter_computer-vision/index](chapter_computer-vision/index)\n",
    "- [chapter_natural-language-processing-pretraining/index](chapter_natural-language-processing-pretraining/index)\n",
    "- [chapter_natural-language-processing-applications/index](chapter_natural-language-processing-applications/index)\n",
    "- [chapter_appendix-tools-for-deep-learning/index](chapter_appendix-tools-for-deep-learning/index)"
   ]
  },
  {
   "cell_type": "markdown",
   "metadata": {},
   "source": [
    "## 引用\n",
    "\n",
    "- [chapter_references/zreferences](chapter_references/zreferences)"
   ]
  }
 ],
 "metadata": {
  "language_info": {
   "name": "python"
  }
 },
 "nbformat": 4,
 "nbformat_minor": 4
}
