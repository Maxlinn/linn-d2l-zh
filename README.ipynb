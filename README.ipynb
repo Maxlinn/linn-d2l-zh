{
 "cells": [
  {
   "cell_type": "markdown",
   "metadata": {
    "origin_pos": 0
   },
   "source": [
    "# 林知来动手学深度学习\n",
    "\n",
    "林知的学习笔记，发布于 <img src="https://maxlinn.github.io/linn-d2l-zh" alt="linn-d2l-zh"> ，教材是《动手学深度学习》，教材来自 <img src="https://zh.d2l.ai/" alt="d2l-zh">."
   ]
  },
  {
   "cell_type": "markdown",
   "metadata": {},
   "source": [
    "## 官网不是有吗，你为什么要自己建站呢？\n",
    "\n",
    "华罗庚曾说，读书，先要读厚，再要读薄。映射到计算机领域也一样，编译源程序时，会生成大体积的符号表、中间代码等，在生成目标程序时又要尽可能地简洁和高效。官网上的文档，虽然完备，但终究不是自己的。自己读过一遍免不了要圈点勾画，甚至要==删除一些冗余章节、引入一些外部的资料等==，您在本站看到的内容和源站点可能不一样。仅仅在 Notebook 上零散地改，浏览起来不够直观。幸好借助 nbconvert 和 docsify, 我构建了一个自动由 jupyter notebook 构建站点的<img src="https://github.com/Maxlinn/linn-jupyter-site-template" alt="工作流">。\n",
    "\n",
    "我希望这本书能够作为一棵大树的干，因为它足够粗壮、足够可靠，叶子则由我自己摆放。之后的知识更新了，我也能很快加入进来，最终把这个站点作为我在机器学习领域的“家”。\n",
    "\n",
    "本站基于 <img src="https://creativecommons.org/licenses/by/4.0/" alt="CC-BY 4.0"> 开放，引用时您需要注明作者和原文地址，并不得用于商业用途。"
   ]
  },
  {
   "cell_type": "markdown",
   "metadata": {},
   "source": [
    "为了方便批注，引入一个了实验性的脚本来支持`==`高亮语法，由于尚未测试，目前仅在本站启用。"
   ]
  },
  {
   "cell_type": "markdown",
   "metadata": {},
   "source": [
    "## 引言\n",
    "\n",
    "- <img src="chapter_preface/index" alt="chapter_preface/index">\n",
    "- <img src="chapter_installation/index" alt="chapter_installation/index">\n",
    "- <img src="chapter_notation/index" alt="chapter_notation/index">"
   ]
  },
  {
   "cell_type": "markdown",
   "metadata": {},
   "source": [
    "## 内容\n",
    "\n",
    "- <img src="chapter_introduction/index" alt="chapter_introduction/index">\n",
    "- <img src="chapter_preliminaries/index" alt="chapter_preliminaries/index">\n",
    "- <img src="chapter_linear-networks/index" alt="chapter_linear-networks/index">\n",
    "- <img src="chapter_multilayer-perceptrons/index" alt="chapter_multilayer-perceptrons/index">\n",
    "- <img src="chapter_deep-learning-computation/index" alt="chapter_deep-learning-computation/index">\n",
    "- <img src="chapter_convolutional-neural-networks/index" alt="chapter_convolutional-neural-networks/index">\n",
    "- <img src="chapter_convolutional-modern/index" alt="chapter_convolutional-modern/index">\n",
    "- <img src="chapter_recurrent-neural-networks/index" alt="chapter_recurrent-neural-networks/index">\n",
    "- <img src="chapter_recurrent-modern/index" alt="chapter_recurrent-modern/index">\n",
    "- <img src="chapter_attention-mechanisms/index" alt="chapter_attention-mechanisms/index">\n",
    "- <img src="chapter_optimization/index" alt="chapter_optimization/index">\n",
    "- <img src="chapter_computational-performance/index" alt="chapter_computational-performance/index">\n",
    "- <img src="chapter_computer-vision/index" alt="chapter_computer-vision/index">\n",
    "- <img src="chapter_natural-language-processing-pretraining/index" alt="chapter_natural-language-processing-pretraining/index">\n",
    "- <img src="chapter_natural-language-processing-applications/index" alt="chapter_natural-language-processing-applications/index">\n",
    "- <img src="chapter_appendix-tools-for-deep-learning/index" alt="chapter_appendix-tools-for-deep-learning/index">"
   ]
  },
  {
   "cell_type": "markdown",
   "metadata": {},
   "source": [
    "## 引用\n",
    "\n",
    "- <img src="chapter_references/zreferences" alt="chapter_references/zreferences">"
   ]
  }
 ],
 "metadata": {
  "language_info": {
   "name": "python"
  }
 },
 "nbformat": 4,
 "nbformat_minor": 4
}
