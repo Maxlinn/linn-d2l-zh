{
 "cells": [
  {
   "cell_type": "markdown",
   "metadata": {
    "origin_pos": 0
   },
   "source": [
    "# 林知来动手学深度学习\n",
    "\n",
    "林知的学习笔记，教材是《动手学深度学习》，链接是"
   ]
  },
  {
   "cell_type": "markdown",
   "metadata": {},
   "source": [
    "[linn-d2l-zh](https://maxlinn.github.io/linn-d2l-zh)"
   ]
  },
  {
   "cell_type": "markdown",
   "metadata": {},
   "source": [
    "```eval_rst\n",
    ".. raw:: html\n",
    "   :file: frontpage.html\n",
    "```\n",
    "\n",
    ":begin_tab:toc\n",
    " - [chapter_preface](chapter_preface)\n",
    " - [chapter_installation](chapter_installation)\n",
    " - [chapter_notation](chapter_notation)\n",
    " \n",
    ":end_tab:\n",
    "\n",
    ":begin_tab:toc\n",
    " - [chapter_introduction](chapter_introduction)\n",
    " - [chapter_preliminaries](chapter_preliminaries)\n",
    " - [chapter_linear-networks](chapter_linear-networks)\n",
    " - [chapter_multilayer-perceptrons](chapter_multilayer-perceptrons)\n",
    " - [chapter_deep-learning-computation](chapter_deep-learning-computation)\n",
    " - [chapter_convolutional-neural-networks](chapter_convolutional-neural-networks)\n",
    " - [chapter_convolutional-modern](chapter_convolutional-modern)\n",
    " - [chapter_recurrent-neural-networks](chapter_recurrent-neural-networks)\n",
    " - [chapter_recurrent-modern](chapter_recurrent-modern)\n",
    " - [chapter_attention-mechanisms](chapter_attention-mechanisms)\n",
    " - [chapter_optimization](chapter_optimization)\n",
    " - [chapter_computational-performance](chapter_computational-performance)\n",
    " - [chapter_computer-vision](chapter_computer-vision)\n",
    " - [chapter_natural-language-processing-pretraining](chapter_natural-language-processing-pretraining)\n",
    " - [chapter_natural-language-processing-applications](chapter_natural-language-processing-applications)\n",
    " - [chapter_appendix-tools-for-deep-learning](chapter_appendix-tools-for-deep-learning)\n",
    " \n",
    ":end_tab:\n",
    "\n",
    ":begin_tab:toc\n",
    " - [chapter_references/zreferences](chapter_references/zreferences)\n",
    "\n",
    ":end_tab:"
   ]
  }
 ],
 "metadata": {
  "language_info": {
   "name": "python"
  }
 },
 "nbformat": 4,
 "nbformat_minor": 4
}
