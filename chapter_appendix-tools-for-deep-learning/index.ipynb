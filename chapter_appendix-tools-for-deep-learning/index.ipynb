{
 "cells": [
  {
   "cell_type": "markdown",
   "metadata": {
    "origin_pos": 0
   },
   "source": [
    "# 附录：深度学习工具\n",
    ":label:`chap_appendix_tools`\n",
    "\n",
    "为了充分利用《动手学深度学习》，我们将在本附录中介绍不同工具，\n",
    "例如如何运行这本交互式开源书籍和为本书做贡献。\n",
    "\n",
    ":begin_tab:toc\n",
    " - [jupyter](chapter_appendix-tools-for-deep-learning/jupyter.ipynb)\n",
    " - [sagemaker](chapter_appendix-tools-for-deep-learning/sagemaker.ipynb)\n",
    " - [aws](chapter_appendix-tools-for-deep-learning/aws.ipynb)\n",
    " - [selecting-servers-gpus](chapter_appendix-tools-for-deep-learning/selecting-servers-gpus.ipynb)\n",
    " - [contributing](chapter_appendix-tools-for-deep-learning/contributing.ipynb)\n",
    " - [d2l](chapter_appendix-tools-for-deep-learning/d2l.ipynb)\n",
    ":end_tab:\n"
   ]
  }
 ],
 "metadata": {
  "language_info": {
   "name": "python"
  }
 },
 "nbformat": 4,
 "nbformat_minor": 4
}